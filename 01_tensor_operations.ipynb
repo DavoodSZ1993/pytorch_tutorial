{
  "cells": [
    {
      "cell_type": "markdown",
      "metadata": {
        "id": "view-in-github",
        "colab_type": "text"
      },
      "source": [
        "<a href=\"https://colab.research.google.com/github/DavoodSZ1993/pytorch_tutorial/blob/master/01_tensor_operations.ipynb\" target=\"_parent\"><img src=\"https://colab.research.google.com/assets/colab-badge.svg\" alt=\"Open In Colab\"/></a>"
      ]
    },
    {
      "cell_type": "code",
      "execution_count": 22,
      "metadata": {
        "id": "9SE3d9LYea94"
      },
      "outputs": [],
      "source": [
        "# Jovian Commit Essentials\n",
        "# Please retain and execute this cell without modifying the contents for `jovian.commit` to work\n",
        "!pip install jovian --upgrade -q\n",
        "import jovian\n",
        "jovian.set_project('01-tensor-operations')\n",
        "jovian.set_colab_id('1CX3QEYEncsTHEKNVL68db58SF3ex-ZlU')"
      ]
    },
    {
      "cell_type": "markdown",
      "metadata": {
        "id": "CLlfqqWNea-N"
      },
      "source": [
        "> ### Assignment Instructions (delete this cell before submission)\n",
        "> \n",
        "> The objective of this assignment is to develop a solid understanding of PyTorch tensors. In this assignment you will:\n",
        ">\n",
        "> 1. Pick 5 interesting functions related to PyTorch tensors by [reading the documentation](https://pytorch.org/docs/stable/torch.html), \n",
        "> 2. Edit this starter template notebook to illustrate their usage and publish your notebook to Jovian using `jovian.commit`. Make sure to add proper explanations too, not just code.\n",
        "> 3. Submit the link to your published notebook on Jovian here: https://jovian.ai/learn/deep-learning-with-pytorch-zero-to-gans/assignment/assignment-1-all-about-torch-tensor .\n",
        "> 4. (Optional) Write a blog post on [Medium](https://medium.com) to accompany and showcase your Jupyter notebook. [Embed cells from your notebook](https://medium.com/@aakashns/share-and-embed-jupyter-notebooks-online-with-jovian-ml-df709a03064e) wherever necessary.\n",
        "> 5. (Optional) [Share your work](https://jovian.ai/forum/t/pytorch-functions-and-tensor-operations/13790) with the community and exchange feedback with other participants\n",
        ">\n",
        ">\n",
        "> The recommended way to run this notebook is to click the \"Run\" button at the top of this page, and select \"Run on Colab\". Run `jovian.commit` regularly to save your progress.\n",
        "> \n",
        "> Try to give your notebook an interesting title e.g. \"All about PyTorch tensor operations\", \"5 PyTorch functions you didn't know you needed\", \"A beginner's guide to Autograd in PyToch\", \"Interesting ways to create PyTorch tensors\", \"Trigonometic functions in PyTorch\", \"How to use PyTorch tensors for Linear Algebra\" etc.\n",
        ">\n",
        "> **IMPORTANT NOTE**: Make sure to submit a Jovian notebook link e.g. https://jovian.ai/aakashns/01-tensor-operations . Colab links will not be accepted.\n",
        ">\n",
        "> Remove this cell containing instructions before making a submission or sharing your notebook, to make it more presentable.\n",
        ">\n",
        "\n"
      ]
    },
    {
      "cell_type": "markdown",
      "metadata": {
        "id": "U_bcWHfmea-V"
      },
      "source": [
        "# Getting Statrted with PyTroch\n",
        "\n",
        "PyTorch is an open-source machine learning library that has been used to solve many different machine learning problems. There are various benefits associated with using PyTorch including tensor computing using GPU, and the ability to automatically compute the gradient for various tensor operations.\n",
        "In this notebook, I am going to introduce some of the PyTorch simple functions with a brief description. The functions are as follows:\n",
        "\n",
        "- torch.is_floating_point()\n",
        "- torch.from_numpy()\n",
        "- torch.dsplit()\n",
        "- torch.bernouli()\n",
        "- torch.acos()\n",
        "\n",
        "Before we begin, let's import PyTorch"
      ]
    },
    {
      "cell_type": "code",
      "execution_count": 23,
      "metadata": {
        "id": "6kvqEjmgea-Z"
      },
      "outputs": [],
      "source": [
        "# Import torch and other required modules\n",
        "import torch"
      ]
    },
    {
      "cell_type": "markdown",
      "metadata": {
        "id": "2ObJos15ea-h"
      },
      "source": [
        "## Function 1 - torch.is_floating_point ()\n",
        "\n",
        "This function simply returns True if the data type of input is floating point data type."
      ]
    },
    {
      "cell_type": "code",
      "execution_count": 24,
      "metadata": {
        "colab": {
          "base_uri": "https://localhost:8080/"
        },
        "id": "ucSDIUlyea-j",
        "outputId": "07d5518c-ece2-4881-e133-75e42eba8f0e"
      },
      "outputs": [
        {
          "output_type": "execute_result",
          "data": {
            "text/plain": [
              "True"
            ]
          },
          "metadata": {},
          "execution_count": 24
        }
      ],
      "source": [
        "# Example 1 - working (change this)\n",
        "tensor1 = torch.tensor([[1, 2, 3],[4, 5, 6]], dtype=torch.float32)\n",
        "tensor1.is_floating_point()"
      ]
    },
    {
      "cell_type": "markdown",
      "metadata": {
        "id": "In4tTybsea-l"
      },
      "source": [
        "This example clearly illustrates how the `is_floating_point()` method works. At first, a 2 x 3 tensor has been defined by specifying its data type as `torch.float32`. Then the `is_floating_point` method is called to determine whether the data type of our tensor is floating point data type. So, the method has returned `True` which indicates the data type of our tensor is floating point data type. "
      ]
    },
    {
      "cell_type": "code",
      "execution_count": 25,
      "metadata": {
        "id": "R5PAwQJkea-m",
        "outputId": "fcd1f14c-c908-4790-ce1b-22de470189d0",
        "colab": {
          "base_uri": "https://localhost:8080/"
        }
      },
      "outputs": [
        {
          "output_type": "execute_result",
          "data": {
            "text/plain": [
              "False"
            ]
          },
          "metadata": {},
          "execution_count": 25
        }
      ],
      "source": [
        "# Example 2 - working\n",
        "tensor2 = torch.tensor([[1, 2, 3],[4, 5, 6]], dtype=torch.int8)\n",
        "tensor2.is_floating_point()"
      ]
    },
    {
      "cell_type": "markdown",
      "metadata": {
        "id": "9E_r89GDea-o"
      },
      "source": [
        "This is another example of how `is_floating_point()` works on tensors. However, in this example, the data type of our tensor is defined as `torch.int8`. So our method has returned `False` as result."
      ]
    },
    {
      "cell_type": "code",
      "execution_count": 26,
      "metadata": {
        "id": "SMyNKtO9ea-o",
        "outputId": "ec6ad599-a2d4-458f-cdb6-c58e0b758bd4",
        "colab": {
          "base_uri": "https://localhost:8080/",
          "height": 182
        }
      },
      "outputs": [
        {
          "output_type": "error",
          "ename": "TypeError",
          "evalue": "ignored",
          "traceback": [
            "\u001b[0;31m---------------------------------------------------------------------------\u001b[0m",
            "\u001b[0;31mTypeError\u001b[0m                                 Traceback (most recent call last)",
            "\u001b[0;32m<ipython-input-26-4993ae7d03cb>\u001b[0m in \u001b[0;36m<module>\u001b[0;34m()\u001b[0m\n\u001b[1;32m      1\u001b[0m \u001b[0;31m# Example 3 - breaking (to illustrate when it breaks)\u001b[0m\u001b[0;34m\u001b[0m\u001b[0;34m\u001b[0m\u001b[0;34m\u001b[0m\u001b[0m\n\u001b[0;32m----> 2\u001b[0;31m \u001b[0mtorch\u001b[0m\u001b[0;34m.\u001b[0m\u001b[0mis_floating_point\u001b[0m\u001b[0;34m(\u001b[0m\u001b[0;34m[\u001b[0m\u001b[0;36m12\u001b[0m\u001b[0;34m,\u001b[0m \u001b[0;36m11\u001b[0m\u001b[0;34m,\u001b[0m \u001b[0;36m10\u001b[0m\u001b[0;34m]\u001b[0m\u001b[0;34m,\u001b[0m \u001b[0;34m[\u001b[0m\u001b[0;36m5\u001b[0m\u001b[0;34m,\u001b[0m \u001b[0;36m4\u001b[0m\u001b[0;34m,\u001b[0m \u001b[0;36m3\u001b[0m\u001b[0;34m]\u001b[0m\u001b[0;34m)\u001b[0m\u001b[0;34m\u001b[0m\u001b[0;34m\u001b[0m\u001b[0m\n\u001b[0m",
            "\u001b[0;31mTypeError\u001b[0m: is_floating_point() takes 1 positional argument but 2 were given"
          ]
        }
      ],
      "source": [
        "# Example 3 - breaking (to illustrate when it breaks)\n",
        "torch.is_floating_point([12, 11, 10], [5, 4, 3])"
      ]
    },
    {
      "cell_type": "markdown",
      "metadata": {
        "id": "bNASkwcuea-p"
      },
      "source": [
        "This example illustrates that the `is_floating_point()` method is only applicable on tensors that have been created by using the PyTorch library functions. This method can't be generalized to lists or other libraries."
      ]
    },
    {
      "cell_type": "markdown",
      "metadata": {
        "id": "gmKHV7usea-q"
      },
      "source": [
        "#### Conclusion\n",
        "We can use the `is_floating_point()' method to determine whether the type of data in any given tensor is floating point data type."
      ]
    },
    {
      "cell_type": "markdown",
      "metadata": {
        "id": "_aHZWzWxea-q"
      },
      "source": [
        "Let's save our work using Jovian before continuing."
      ]
    },
    {
      "cell_type": "code",
      "execution_count": 27,
      "metadata": {
        "id": "795lIrbAea-r"
      },
      "outputs": [],
      "source": [
        "!pip install jovian --upgrade --quiet"
      ]
    },
    {
      "cell_type": "code",
      "execution_count": 28,
      "metadata": {
        "id": "kzfOsjZzea-s"
      },
      "outputs": [],
      "source": [
        "import jovian"
      ]
    },
    {
      "cell_type": "code",
      "execution_count": 29,
      "metadata": {
        "id": "GnddB1cVea-u",
        "outputId": "1ddb9939-7341-4026-ea8c-a4458f0b8208",
        "colab": {
          "base_uri": "https://localhost:8080/",
          "height": 88
        }
      },
      "outputs": [
        {
          "output_type": "stream",
          "name": "stdout",
          "text": [
            "[jovian] Detected Colab notebook...\u001b[0m\n",
            "[jovian] Uploading colab notebook to Jovian...\u001b[0m\n",
            "Committed successfully! https://jovian.ai/davoodsoleymanzadeh/01-tensor-operations\n"
          ]
        },
        {
          "output_type": "execute_result",
          "data": {
            "application/vnd.google.colaboratory.intrinsic+json": {
              "type": "string"
            },
            "text/plain": [
              "'https://jovian.ai/davoodsoleymanzadeh/01-tensor-operations'"
            ]
          },
          "metadata": {},
          "execution_count": 29
        }
      ],
      "source": [
        "jovian.commit(project='01-tensor-operations')"
      ]
    },
    {
      "cell_type": "markdown",
      "metadata": {
        "id": "Yf1Tlw15ea-w"
      },
      "source": [
        "## Function 2 - ???\n",
        "\n",
        "Add some explanations"
      ]
    },
    {
      "cell_type": "code",
      "execution_count": null,
      "metadata": {
        "id": "U3HK6NjWea-x"
      },
      "outputs": [],
      "source": [
        "# Example 1 - working"
      ]
    },
    {
      "cell_type": "markdown",
      "metadata": {
        "id": "BQ2VUxRmea-x"
      },
      "source": [
        "Explanation about example"
      ]
    },
    {
      "cell_type": "code",
      "execution_count": null,
      "metadata": {
        "id": "Cl7YovPtea-y"
      },
      "outputs": [],
      "source": [
        "# Example 2 - working"
      ]
    },
    {
      "cell_type": "markdown",
      "metadata": {
        "id": "in8O8wCgea-y"
      },
      "source": [
        "Explanation about example"
      ]
    },
    {
      "cell_type": "code",
      "execution_count": null,
      "metadata": {
        "id": "X97ByhWKea-z"
      },
      "outputs": [],
      "source": [
        "# Example 3 - breaking (to illustrate when it breaks)"
      ]
    },
    {
      "cell_type": "markdown",
      "metadata": {
        "id": "JQx73aF9ea-z"
      },
      "source": [
        "Explanation about example"
      ]
    },
    {
      "cell_type": "markdown",
      "metadata": {
        "id": "1snYfvKbea-0"
      },
      "source": [
        "Closing comments about when to use this function"
      ]
    },
    {
      "cell_type": "code",
      "execution_count": null,
      "metadata": {
        "id": "WhOWwKu9ea-0"
      },
      "outputs": [],
      "source": [
        "jovian.commit(project='01-tensor-operations')"
      ]
    },
    {
      "cell_type": "markdown",
      "metadata": {
        "id": "7xLeaHXsea-0"
      },
      "source": [
        "## Function 3 - ???\n",
        "\n",
        "Add some explanations"
      ]
    },
    {
      "cell_type": "code",
      "execution_count": null,
      "metadata": {
        "id": "d6kAn9i_ea-0"
      },
      "outputs": [],
      "source": [
        "# Example 1 - working"
      ]
    },
    {
      "cell_type": "markdown",
      "metadata": {
        "id": "z-MvNjHPea-3"
      },
      "source": [
        "Explanation about example"
      ]
    },
    {
      "cell_type": "code",
      "execution_count": null,
      "metadata": {
        "id": "H7cm6BUVea-3"
      },
      "outputs": [],
      "source": [
        "# Example 2 - working"
      ]
    },
    {
      "cell_type": "markdown",
      "metadata": {
        "id": "L_CTveaoea-3"
      },
      "source": [
        "Explanation about example"
      ]
    },
    {
      "cell_type": "code",
      "execution_count": null,
      "metadata": {
        "id": "8SykOSiLea-4"
      },
      "outputs": [],
      "source": [
        "# Example 3 - breaking (to illustrate when it breaks)"
      ]
    },
    {
      "cell_type": "markdown",
      "metadata": {
        "id": "IFy9PLjaea-4"
      },
      "source": [
        "Explanation about example"
      ]
    },
    {
      "cell_type": "markdown",
      "metadata": {
        "id": "DNONjD5jea-4"
      },
      "source": [
        "Closing comments about when to use this function"
      ]
    },
    {
      "cell_type": "code",
      "execution_count": null,
      "metadata": {
        "id": "X5rn7djcea-5"
      },
      "outputs": [],
      "source": [
        "jovian.commit(project='01-tensor-operations')"
      ]
    },
    {
      "cell_type": "markdown",
      "metadata": {
        "id": "GHnLGJajea-5"
      },
      "source": [
        "## Function 4 - ???\n",
        "\n",
        "Add some explanations"
      ]
    },
    {
      "cell_type": "code",
      "execution_count": null,
      "metadata": {
        "id": "_uAJvTeyea-6"
      },
      "outputs": [],
      "source": [
        "# Example 1 - working"
      ]
    },
    {
      "cell_type": "markdown",
      "metadata": {
        "id": "uypYMzY8ea-6"
      },
      "source": [
        "Explanation about example"
      ]
    },
    {
      "cell_type": "code",
      "execution_count": null,
      "metadata": {
        "id": "Hkk7DBTKea-6"
      },
      "outputs": [],
      "source": [
        "# Example 2 - working"
      ]
    },
    {
      "cell_type": "markdown",
      "metadata": {
        "id": "_tMQ3bJ6ea-6"
      },
      "source": [
        "Explanation about example"
      ]
    },
    {
      "cell_type": "code",
      "execution_count": null,
      "metadata": {
        "id": "cYQhAMsVea-7"
      },
      "outputs": [],
      "source": [
        "# Example 3 - breaking (to illustrate when it breaks)"
      ]
    },
    {
      "cell_type": "markdown",
      "metadata": {
        "id": "cCtQOJnFea-7"
      },
      "source": [
        "Explanation about example"
      ]
    },
    {
      "cell_type": "markdown",
      "metadata": {
        "id": "PVIffwbcea-7"
      },
      "source": [
        "Closing comments about when to use this function"
      ]
    },
    {
      "cell_type": "code",
      "execution_count": null,
      "metadata": {
        "id": "vIzWMomwea-7"
      },
      "outputs": [],
      "source": [
        "jovian.commit(project='01-tensor-operations')"
      ]
    },
    {
      "cell_type": "markdown",
      "metadata": {
        "id": "bVpWrux4ea--"
      },
      "source": [
        "## Function 5 - ???\n",
        "\n",
        "Add some explanations"
      ]
    },
    {
      "cell_type": "code",
      "execution_count": null,
      "metadata": {
        "id": "mjWnCQHHea--"
      },
      "outputs": [],
      "source": [
        "# Example 1 - working"
      ]
    },
    {
      "cell_type": "markdown",
      "metadata": {
        "id": "5FOX8OGdea-_"
      },
      "source": [
        "Explanation about example"
      ]
    },
    {
      "cell_type": "code",
      "execution_count": null,
      "metadata": {
        "id": "MBcQAmD1ea_B"
      },
      "outputs": [],
      "source": [
        "# Example 2 - working"
      ]
    },
    {
      "cell_type": "markdown",
      "metadata": {
        "id": "DyntLn8yea_B"
      },
      "source": [
        "Explanation about example"
      ]
    },
    {
      "cell_type": "code",
      "execution_count": null,
      "metadata": {
        "id": "tKEayPbcea_B"
      },
      "outputs": [],
      "source": [
        "# Example 3 - breaking (to illustrate when it breaks)"
      ]
    },
    {
      "cell_type": "markdown",
      "metadata": {
        "id": "ZJi7hG-jea_C"
      },
      "source": [
        "Explanation about example"
      ]
    },
    {
      "cell_type": "markdown",
      "metadata": {
        "id": "6Y164PfCea_C"
      },
      "source": [
        "Closing comments about when to use this function"
      ]
    },
    {
      "cell_type": "code",
      "execution_count": null,
      "metadata": {
        "id": "a4cS3zsOea_C"
      },
      "outputs": [],
      "source": [
        "jovian.commit(project='01-tensor-operations')"
      ]
    },
    {
      "cell_type": "markdown",
      "metadata": {
        "id": "2weOsH_tea_D"
      },
      "source": [
        "## Conclusion\n",
        "\n",
        "Summarize what was covered in this notebook, and where to go next"
      ]
    },
    {
      "cell_type": "markdown",
      "metadata": {
        "id": "C5Qm77ZSea_D"
      },
      "source": [
        "## Reference Links\n",
        "Provide links to your references and other interesting articles about tensors\n",
        "* Official documentation for tensor operations: https://pytorch.org/docs/stable/torch.html\n",
        "* ..."
      ]
    },
    {
      "cell_type": "code",
      "execution_count": null,
      "metadata": {
        "id": "LlYOBkK9ea_D"
      },
      "outputs": [],
      "source": [
        "jovian.commit(project='01-tensor-operations')"
      ]
    },
    {
      "cell_type": "code",
      "execution_count": null,
      "metadata": {
        "id": "mph_SfQ6ea_E"
      },
      "outputs": [],
      "source": [
        ""
      ]
    }
  ],
  "metadata": {
    "kernelspec": {
      "display_name": "Python 3",
      "language": "python",
      "name": "python3"
    },
    "language_info": {
      "codemirror_mode": {
        "name": "ipython",
        "version": 3
      },
      "file_extension": ".py",
      "mimetype": "text/x-python",
      "name": "python",
      "nbconvert_exporter": "python",
      "pygments_lexer": "ipython3",
      "version": "3.8.5"
    },
    "colab": {
      "name": "01-tensor-operations.ipynb",
      "provenance": [],
      "include_colab_link": true
    }
  },
  "nbformat": 4,
  "nbformat_minor": 0
}
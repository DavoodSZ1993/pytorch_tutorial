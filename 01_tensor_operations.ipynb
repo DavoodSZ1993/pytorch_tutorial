{
  "cells": [
    {
      "cell_type": "markdown",
      "metadata": {
        "id": "view-in-github",
        "colab_type": "text"
      },
      "source": [
        "<a href=\"https://colab.research.google.com/github/DavoodSZ1993/pytorch_tutorial/blob/master/01_tensor_operations.ipynb\" target=\"_parent\"><img src=\"https://colab.research.google.com/assets/colab-badge.svg\" alt=\"Open In Colab\"/></a>"
      ]
    },
    {
      "cell_type": "code",
      "execution_count": 34,
      "metadata": {
        "id": "MtUNuW_wOKui"
      },
      "outputs": [],
      "source": [
        "# Jovian Commit Essentials\n",
        "# Please retain and execute this cell without modifying the contents for `jovian.commit` to work\n",
        "!pip install jovian --upgrade -q\n",
        "import jovian\n",
        "jovian.set_project('01-tensor-operations')\n",
        "jovian.set_colab_id('1CX3QEYEncsTHEKNVL68db58SF3ex-ZlU')"
      ]
    },
    {
      "cell_type": "markdown",
      "metadata": {
        "id": "VaVZI15kRNgy"
      },
      "source": [
        "# Getting Started with PyTorch\n",
        "\n",
        "PyTorch is an open-source machine learning library that has been used to solve many different machine learning problems. There are various benefits associated with using PyTorch including tensor computing using GPU, and the ability to automatically compute the gradient for various tensor operations. In this notebook, I am going to introduce some of the PyTorch simple functions with a brief description. The functions are as follows:\n",
        "\n",
        "- torch.is_floating_point()\n",
        "- torch.from_numpy()\n",
        "- torch.acos()\n",
        "- torch.bernoulli()\n",
        "- torch.cross()\n",
        "\n",
        "Before we begin, let's import PyTorch"
      ]
    },
    {
      "cell_type": "code",
      "execution_count": 2,
      "metadata": {
        "id": "nIx4_idXRNg2"
      },
      "outputs": [],
      "source": [
        "# Import torch and other required modules\n",
        "import torch"
      ]
    },
    {
      "cell_type": "markdown",
      "metadata": {
        "id": "qacVUFFpRNg4"
      },
      "source": [
        "## Function 1 - torch.is_floating_point ()\n",
        "\n",
        "This function simply returns True if the data type of input is floating point data type."
      ]
    },
    {
      "cell_type": "code",
      "execution_count": 3,
      "metadata": {
        "colab": {
          "base_uri": "https://localhost:8080/"
        },
        "id": "SF6vye-FRNg5",
        "outputId": "00fe5231-3f17-46d6-e555-85150bc413ac"
      },
      "outputs": [
        {
          "output_type": "execute_result",
          "data": {
            "text/plain": [
              "True"
            ]
          },
          "metadata": {},
          "execution_count": 3
        }
      ],
      "source": [
        "# Example 1 - working \n",
        "tensor1 = torch.tensor([[1, 2, 3],[4, 5, 6]], dtype=torch.float32)\n",
        "tensor1.is_floating_point()"
      ]
    },
    {
      "cell_type": "markdown",
      "metadata": {
        "id": "IBGx4VPORNg7"
      },
      "source": [
        "This example clearly illustrates how the `is_floating_point()` method works. At first, a 2 x 3 tensor has been defined by specifying its data type as `torch.float32`. Then the `is_floating_point` method is called to determine whether the data type of our tensor is floating point data type. So, the method has returned `True` which indicates the data type of our tensor is floating point data type."
      ]
    },
    {
      "cell_type": "code",
      "execution_count": 4,
      "metadata": {
        "colab": {
          "base_uri": "https://localhost:8080/"
        },
        "id": "ascgA714RNg8",
        "outputId": "eaf8187d-f30d-4eb2-e4d9-3068753ebf2f"
      },
      "outputs": [
        {
          "output_type": "execute_result",
          "data": {
            "text/plain": [
              "False"
            ]
          },
          "metadata": {},
          "execution_count": 4
        }
      ],
      "source": [
        "# Example 2 - working\n",
        "tensor2 = torch.tensor([[1, 2, 3],[4, 5, 6]], dtype=torch.int8)\n",
        "tensor2.is_floating_point()"
      ]
    },
    {
      "cell_type": "markdown",
      "metadata": {
        "id": "3T30eq-XRNg9"
      },
      "source": [
        "This is another example of how `is_floating_point()` works on tensors. However, in this example, the data type of our tensor is defined as `torch.int8`. So our method has returned `False` as result."
      ]
    },
    {
      "cell_type": "code",
      "execution_count": 5,
      "metadata": {
        "colab": {
          "base_uri": "https://localhost:8080/",
          "height": 182
        },
        "id": "zbByIf8eRNg9",
        "outputId": "12ab9be5-b0bd-45cb-e232-7deb9e4fe6b0"
      },
      "outputs": [
        {
          "output_type": "error",
          "ename": "TypeError",
          "evalue": "ignored",
          "traceback": [
            "\u001b[0;31m---------------------------------------------------------------------------\u001b[0m",
            "\u001b[0;31mTypeError\u001b[0m                                 Traceback (most recent call last)",
            "\u001b[0;32m<ipython-input-5-4993ae7d03cb>\u001b[0m in \u001b[0;36m<module>\u001b[0;34m()\u001b[0m\n\u001b[1;32m      1\u001b[0m \u001b[0;31m# Example 3 - breaking (to illustrate when it breaks)\u001b[0m\u001b[0;34m\u001b[0m\u001b[0;34m\u001b[0m\u001b[0;34m\u001b[0m\u001b[0m\n\u001b[0;32m----> 2\u001b[0;31m \u001b[0mtorch\u001b[0m\u001b[0;34m.\u001b[0m\u001b[0mis_floating_point\u001b[0m\u001b[0;34m(\u001b[0m\u001b[0;34m[\u001b[0m\u001b[0;36m12\u001b[0m\u001b[0;34m,\u001b[0m \u001b[0;36m11\u001b[0m\u001b[0;34m,\u001b[0m \u001b[0;36m10\u001b[0m\u001b[0;34m]\u001b[0m\u001b[0;34m,\u001b[0m \u001b[0;34m[\u001b[0m\u001b[0;36m5\u001b[0m\u001b[0;34m,\u001b[0m \u001b[0;36m4\u001b[0m\u001b[0;34m,\u001b[0m \u001b[0;36m3\u001b[0m\u001b[0;34m]\u001b[0m\u001b[0;34m)\u001b[0m\u001b[0;34m\u001b[0m\u001b[0;34m\u001b[0m\u001b[0m\n\u001b[0m",
            "\u001b[0;31mTypeError\u001b[0m: is_floating_point() takes 1 positional argument but 2 were given"
          ]
        }
      ],
      "source": [
        "# Example 3 - breaking (to illustrate when it breaks)\n",
        "torch.is_floating_point([12, 11, 10], [5, 4, 3])"
      ]
    },
    {
      "cell_type": "markdown",
      "metadata": {
        "id": "a8QONGKURNg-"
      },
      "source": [
        "This example illustrates that the `is_floating_point()` method is only applicable on tensors that have been created by using the PyTorch library functions. This method can't be generalized to lists or other libraries."
      ]
    },
    {
      "cell_type": "markdown",
      "metadata": {
        "id": "ZcklohgQRNhA"
      },
      "source": [
        "#### Conclusion\n",
        "We can use the `is_floating_point()` method to determine whether the type of data in any given tensor is floating point data type."
      ]
    },
    {
      "cell_type": "markdown",
      "metadata": {
        "id": "AvTO11VbRNhA"
      },
      "source": [
        "Let's save our work using Jovian before continuing."
      ]
    },
    {
      "cell_type": "code",
      "execution_count": 6,
      "metadata": {
        "id": "_QN01RteRNhB"
      },
      "outputs": [],
      "source": [
        "!pip install jovian --upgrade --quiet"
      ]
    },
    {
      "cell_type": "code",
      "execution_count": 7,
      "metadata": {
        "id": "aaA0NkfkRNhB"
      },
      "outputs": [],
      "source": [
        "import jovian"
      ]
    },
    {
      "cell_type": "code",
      "execution_count": 35,
      "metadata": {
        "colab": {
          "base_uri": "https://localhost:8080/",
          "height": 88
        },
        "id": "bbZoxWGWRNhC",
        "outputId": "37adcd1a-3402-4801-9209-e3d53dc5e054"
      },
      "outputs": [
        {
          "output_type": "stream",
          "name": "stdout",
          "text": [
            "[jovian] Detected Colab notebook...\u001b[0m\n",
            "[jovian] Uploading colab notebook to Jovian...\u001b[0m\n",
            "Committed successfully! https://jovian.ai/davoodsoleymanzadeh/01-tensor-operations\n"
          ]
        },
        {
          "output_type": "execute_result",
          "data": {
            "application/vnd.google.colaboratory.intrinsic+json": {
              "type": "string"
            },
            "text/plain": [
              "'https://jovian.ai/davoodsoleymanzadeh/01-tensor-operations'"
            ]
          },
          "metadata": {},
          "execution_count": 35
        }
      ],
      "source": [
        "jovian.commit(project='01-tensor-operations')"
      ]
    },
    {
      "cell_type": "markdown",
      "metadata": {
        "id": "2mp4nLHDRNhC"
      },
      "source": [
        "## Function 2 - torch.from_numpy()\n",
        "\n",
        "This method converts a `numpy.ndarray` to a tensor."
      ]
    },
    {
      "cell_type": "code",
      "execution_count": 9,
      "metadata": {
        "colab": {
          "base_uri": "https://localhost:8080/"
        },
        "id": "1m1IrZwJRNhE",
        "outputId": "336767d4-67b3-44b3-d628-cfd7e25e755c"
      },
      "outputs": [
        {
          "output_type": "execute_result",
          "data": {
            "text/plain": [
              "tensor([[1, 2, 3],\n",
              "        [4, 5, 6]])"
            ]
          },
          "metadata": {},
          "execution_count": 9
        }
      ],
      "source": [
        "# Example 1 - working\n",
        "import numpy as np\n",
        "\n",
        "array21 = np.array([[1, 2, 3], [4, 5, 6]])\n",
        "tensor21 = torch.from_numpy(array21)\n",
        "tensor21"
      ]
    },
    {
      "cell_type": "markdown",
      "metadata": {
        "id": "RjqO4DUERNhF"
      },
      "source": [
        "This example shows how we can use `from_numpy()` method to convert arrays created via Numpy to PyTorch tensors."
      ]
    },
    {
      "cell_type": "code",
      "execution_count": 10,
      "metadata": {
        "colab": {
          "base_uri": "https://localhost:8080/"
        },
        "id": "T27VZo0URNhG",
        "outputId": "72cd6696-56bc-44db-faab-c7be8bb76365"
      },
      "outputs": [
        {
          "output_type": "stream",
          "name": "stdout",
          "text": [
            "Array 2:  [0 1 2 3 4 5 6 7] , Data Type:  int64\n",
            "Tensor 1:  tensor([0, 1, 2, 3, 4, 5, 6, 7]) , Data Type:  torch.int64\n"
          ]
        }
      ],
      "source": [
        "# Example 2 - working\n",
        "array2 = np.arange(8, dtype=np.int64)\n",
        "tensor1 = torch.from_numpy(array2)\n",
        "\n",
        "print('Array 2: ', array2, ', Data Type: ', array2.dtype)\n",
        "print('Tensor 1: ', tensor1, ', Data Type: ', tensor1.dtype)"
      ]
    },
    {
      "cell_type": "markdown",
      "metadata": {
        "id": "mqfZuZC3RNhI"
      },
      "source": [
        "This is another example of how to use `from_numpy()` method. It is clear that this method automatically inherits input array `dtype`."
      ]
    },
    {
      "cell_type": "code",
      "execution_count": 11,
      "metadata": {
        "colab": {
          "base_uri": "https://localhost:8080/",
          "height": 200
        },
        "id": "qDbTpJpBRNhI",
        "outputId": "f0ba4b99-683e-4645-97da-2c26b234208f"
      },
      "outputs": [
        {
          "output_type": "error",
          "ename": "TypeError",
          "evalue": "ignored",
          "traceback": [
            "\u001b[0;31m---------------------------------------------------------------------------\u001b[0m",
            "\u001b[0;31mTypeError\u001b[0m                                 Traceback (most recent call last)",
            "\u001b[0;32m<ipython-input-11-83261f956c9e>\u001b[0m in \u001b[0;36m<module>\u001b[0;34m()\u001b[0m\n\u001b[1;32m      1\u001b[0m \u001b[0;31m# Example 3 - breaking (to illustrate when it breaks)\u001b[0m\u001b[0;34m\u001b[0m\u001b[0;34m\u001b[0m\u001b[0;34m\u001b[0m\u001b[0m\n\u001b[1;32m      2\u001b[0m \u001b[0marray3\u001b[0m \u001b[0;34m=\u001b[0m \u001b[0mnp\u001b[0m\u001b[0;34m.\u001b[0m\u001b[0marray\u001b[0m\u001b[0;34m(\u001b[0m\u001b[0;34m[\u001b[0m\u001b[0;36m1\u001b[0m\u001b[0;34m,\u001b[0m \u001b[0;36m2\u001b[0m\u001b[0;34m,\u001b[0m \u001b[0;36m3\u001b[0m\u001b[0;34m,\u001b[0m \u001b[0;36m4\u001b[0m\u001b[0;34m]\u001b[0m\u001b[0;34m,\u001b[0m \u001b[0mdtype\u001b[0m\u001b[0;34m=\u001b[0m\u001b[0;34m'S'\u001b[0m\u001b[0;34m)\u001b[0m\u001b[0;34m\u001b[0m\u001b[0;34m\u001b[0m\u001b[0m\n\u001b[0;32m----> 3\u001b[0;31m \u001b[0mtensor3\u001b[0m \u001b[0;34m=\u001b[0m \u001b[0mtorch\u001b[0m\u001b[0;34m.\u001b[0m\u001b[0mfrom_numpy\u001b[0m\u001b[0;34m(\u001b[0m\u001b[0marray3\u001b[0m\u001b[0;34m)\u001b[0m\u001b[0;34m\u001b[0m\u001b[0;34m\u001b[0m\u001b[0m\n\u001b[0m",
            "\u001b[0;31mTypeError\u001b[0m: can't convert np.ndarray of type numpy.bytes_. The only supported types are: float64, float32, float16, complex64, complex128, int64, int32, int16, int8, uint8, and bool."
          ]
        }
      ],
      "source": [
        "# Example 3 - breaking (to illustrate when it breaks)\n",
        "array3 = np.array([1, 2, 3, 4], dtype='S')\n",
        "tensor3 = torch.from_numpy(array3)"
      ]
    },
    {
      "cell_type": "markdown",
      "metadata": {
        "id": "zujHFl5vRNhJ"
      },
      "source": [
        "This example clearly shows that the `from_numpy()` method can only convert some arrays with specific data types such as `float`, `complex`, and `int` to PyTorch tensors."
      ]
    },
    {
      "cell_type": "markdown",
      "metadata": {
        "id": "t0ZizTxCRNhJ"
      },
      "source": [
        "####Conclusion\n",
        "We can use `from_numpy()` method to convert Numpy arrays with specific data types (e.g. `float64`, `complex15`, etc.) to PyTorch tensors."
      ]
    },
    {
      "cell_type": "code",
      "execution_count": 12,
      "metadata": {
        "colab": {
          "base_uri": "https://localhost:8080/",
          "height": 88
        },
        "id": "6q00yMb-RNhK",
        "outputId": "99361472-52da-46b3-d8a3-a5385110d574"
      },
      "outputs": [
        {
          "output_type": "stream",
          "name": "stdout",
          "text": [
            "[jovian] Detected Colab notebook...\u001b[0m\n",
            "[jovian] Uploading colab notebook to Jovian...\u001b[0m\n",
            "Committed successfully! https://jovian.ai/davoodsoleymanzadeh/01-tensor-operations\n"
          ]
        },
        {
          "output_type": "execute_result",
          "data": {
            "application/vnd.google.colaboratory.intrinsic+json": {
              "type": "string"
            },
            "text/plain": [
              "'https://jovian.ai/davoodsoleymanzadeh/01-tensor-operations'"
            ]
          },
          "metadata": {},
          "execution_count": 12
        }
      ],
      "source": [
        "jovian.commit(project='01-tensor-operations')"
      ]
    },
    {
      "cell_type": "markdown",
      "metadata": {
        "id": "XLvGQBiMRNhK"
      },
      "source": [
        "## Function 3 - torch.acos()\n",
        "\n",
        "This function computes the **inverse cosine** of each element of the input tesnor. "
      ]
    },
    {
      "cell_type": "code",
      "execution_count": 13,
      "metadata": {
        "id": "98ECBuxkRNhL",
        "colab": {
          "base_uri": "https://localhost:8080/"
        },
        "outputId": "fdf022c4-a155-43de-9ff4-1be3aea29904"
      },
      "outputs": [
        {
          "output_type": "execute_result",
          "data": {
            "text/plain": [
              "tensor([[0.0000, 1.0472, 1.5708],\n",
              "        [3.1416, 2.0944, 1.3181]])"
            ]
          },
          "metadata": {},
          "execution_count": 13
        }
      ],
      "source": [
        "# Example 1 - working\n",
        "tensor1 = torch.tensor([[1, 0.5, 0], [-1, -0.5, 0.25]])\n",
        "torch.acos(tensor1)"
      ]
    },
    {
      "cell_type": "markdown",
      "metadata": {
        "id": "uEuLSlztRNhL"
      },
      "source": [
        "This example clearly shows how `torch.acos()` works."
      ]
    },
    {
      "cell_type": "code",
      "execution_count": 14,
      "metadata": {
        "id": "HsTRBEznRNhM",
        "colab": {
          "base_uri": "https://localhost:8080/",
          "height": 347
        },
        "outputId": "9f4c92b3-d8be-408a-85ce-a444b23fa51c"
      },
      "outputs": [
        {
          "output_type": "stream",
          "name": "stdout",
          "text": [
            "Output: tensor([[0.0000,    nan,    nan],\n",
            "        [3.1416,    nan,    nan]])\n"
          ]
        },
        {
          "output_type": "execute_result",
          "data": {
            "text/plain": [
              "Text(0, 0.5, 'Output')"
            ]
          },
          "metadata": {},
          "execution_count": 14
        },
        {
          "output_type": "display_data",
          "data": {
            "image/png": "[encoded data removed]",
            "text/plain": [
              "<Figure size 432x288 with 1 Axes>"
            ]
          },
          "metadata": {
            "needs_background": "light"
          }
        }
      ],
      "source": [
        "# Example 2 - working\n",
        "tensor2 = torch.tensor([[1, 2, 3], [-1, -2, -3]])\n",
        "print('Output:', torch.acos(tensor2))\n",
        "\n",
        "import matplotlib.pyplot as plt\n",
        "\n",
        "in1 = np.linspace(-1, 1, 100)\n",
        "out1 = torch.acos(torch.from_numpy(in1))\n",
        "\n",
        "plt.plot(in1, out1.numpy(), color='red');\n",
        "plt.title('Inverse Cosine in PyTorch')\n",
        "plt.xlabel('Input')\n",
        "plt.ylabel('Output')"
      ]
    },
    {
      "cell_type": "markdown",
      "metadata": {
        "id": "CdQh3oCtRNhM"
      },
      "source": [
        "This example shows that the `acos()` method expects to get input in range [-1, 1]. If the input is out of this range, the fuction returns `nan` as output."
      ]
    },
    {
      "cell_type": "code",
      "execution_count": 15,
      "metadata": {
        "id": "3bo_O0meRNhM",
        "colab": {
          "base_uri": "https://localhost:8080/",
          "height": 200
        },
        "outputId": "cc2116f1-24f7-4e5f-d152-17bb65ffa92c"
      },
      "outputs": [
        {
          "output_type": "error",
          "ename": "TypeError",
          "evalue": "ignored",
          "traceback": [
            "\u001b[0;31m---------------------------------------------------------------------------\u001b[0m",
            "\u001b[0;31mTypeError\u001b[0m                                 Traceback (most recent call last)",
            "\u001b[0;32m<ipython-input-15-3774346dc8f8>\u001b[0m in \u001b[0;36m<module>\u001b[0;34m()\u001b[0m\n\u001b[1;32m      1\u001b[0m \u001b[0;31m# Example 3 - breaking (to illustrate when it breaks)\u001b[0m\u001b[0;34m\u001b[0m\u001b[0;34m\u001b[0m\u001b[0;34m\u001b[0m\u001b[0m\n\u001b[1;32m      2\u001b[0m \u001b[0marray1\u001b[0m \u001b[0;34m=\u001b[0m \u001b[0mnp\u001b[0m\u001b[0;34m.\u001b[0m\u001b[0marray\u001b[0m\u001b[0;34m(\u001b[0m\u001b[0;34m[\u001b[0m\u001b[0;36m1\u001b[0m\u001b[0;34m,\u001b[0m \u001b[0;34m-\u001b[0m\u001b[0;36m1\u001b[0m\u001b[0;34m,\u001b[0m \u001b[0;36m0.5\u001b[0m\u001b[0;34m,\u001b[0m \u001b[0;36m2\u001b[0m\u001b[0;34m,\u001b[0m \u001b[0;36m4\u001b[0m\u001b[0;34m]\u001b[0m\u001b[0;34m)\u001b[0m\u001b[0;34m\u001b[0m\u001b[0;34m\u001b[0m\u001b[0m\n\u001b[0;32m----> 3\u001b[0;31m \u001b[0mtensor1\u001b[0m \u001b[0;34m=\u001b[0m \u001b[0mtorch\u001b[0m\u001b[0;34m.\u001b[0m\u001b[0macos\u001b[0m\u001b[0;34m(\u001b[0m\u001b[0marray1\u001b[0m\u001b[0;34m)\u001b[0m\u001b[0;34m\u001b[0m\u001b[0;34m\u001b[0m\u001b[0m\n\u001b[0m",
            "\u001b[0;31mTypeError\u001b[0m: acos(): argument 'input' (position 1) must be Tensor, not numpy.ndarray"
          ]
        }
      ],
      "source": [
        "# Example 3 - breaking (to illustrate when it breaks)\n",
        "array1 = np.array([1, -1, 0.5, 2, 4])\n",
        "tensor1 = torch.acos(array1)"
      ]
    },
    {
      "cell_type": "markdown",
      "metadata": {
        "id": "SioSzp2JRNhM"
      },
      "source": [
        "It is obvious that `torch.acos` only takes **PyTorch** tensors as input."
      ]
    },
    {
      "cell_type": "markdown",
      "metadata": {
        "id": "7UoTfQp4RNhN"
      },
      "source": [
        "#### Conclusion\n",
        "\n",
        "The `torch.acos()` is an element-wise math operator that calculates the **inverse cosine** of any given tensor."
      ]
    },
    {
      "cell_type": "code",
      "execution_count": 24,
      "metadata": {
        "id": "8_3LU903RNhN",
        "colab": {
          "base_uri": "https://localhost:8080/",
          "height": 88
        },
        "outputId": "69712382-ecb6-407e-b086-e771fa31a32d"
      },
      "outputs": [
        {
          "output_type": "stream",
          "name": "stdout",
          "text": [
            "[jovian] Detected Colab notebook...\u001b[0m\n",
            "[jovian] Uploading colab notebook to Jovian...\u001b[0m\n",
            "Committed successfully! https://jovian.ai/davoodsoleymanzadeh/01-tensor-operations\n"
          ]
        },
        {
          "output_type": "execute_result",
          "data": {
            "application/vnd.google.colaboratory.intrinsic+json": {
              "type": "string"
            },
            "text/plain": [
              "'https://jovian.ai/davoodsoleymanzadeh/01-tensor-operations'"
            ]
          },
          "metadata": {},
          "execution_count": 24
        }
      ],
      "source": [
        "jovian.commit(project='01-tensor-operations')"
      ]
    },
    {
      "cell_type": "markdown",
      "metadata": {
        "id": "pqE6Ib-ZRNhN"
      },
      "source": [
        "## Function 4 - torch.bernoulli()\n",
        "\n",
        "This function generates boolean-valued outcomes (0 or 1) from the Bernoulli distribution.  "
      ]
    },
    {
      "cell_type": "code",
      "execution_count": 22,
      "metadata": {
        "id": "rbIMd59XRNhO",
        "colab": {
          "base_uri": "https://localhost:8080/"
        },
        "outputId": "a2a24f78-7bba-46ee-8b57-e40ac36b0dac"
      },
      "outputs": [
        {
          "output_type": "execute_result",
          "data": {
            "text/plain": [
              "tensor([1.])"
            ]
          },
          "metadata": {},
          "execution_count": 22
        }
      ],
      "source": [
        "# Example 1 - working\n",
        "dist1 = torch.bernoulli(torch.tensor([0.6]))  # p = 0.6 (60% chance 1), q = 0.4 (40% chance 0)\n",
        "dist1"
      ]
    },
    {
      "cell_type": "markdown",
      "metadata": {
        "id": "VjLtKFq5RNhO"
      },
      "source": [
        "This cell returns a binary random number, either 1 (with `p=0.6`) or 0 (with `q=0.4`), based on the Bernoulli distribution."
      ]
    },
    {
      "cell_type": "code",
      "execution_count": 23,
      "metadata": {
        "id": "NbDIhimYRNhO",
        "colab": {
          "base_uri": "https://localhost:8080/"
        },
        "outputId": "6b04eafe-dac5-47f7-a81a-0f726e6b260e"
      },
      "outputs": [
        {
          "output_type": "execute_result",
          "data": {
            "text/plain": [
              "tensor([[0., 0., 0.],\n",
              "        [1., 1., 1.]])"
            ]
          },
          "metadata": {},
          "execution_count": 23
        }
      ],
      "source": [
        "# Example 2 - working\n",
        "p = torch.tensor([[0.1, 0.2, 0.3], [0.7, 0.8 ,0.9]])\n",
        "dist2 = torch.bernoulli(p)\n",
        "dist2"
      ]
    },
    {
      "cell_type": "markdown",
      "metadata": {
        "id": "yz1pbG3qRNhP"
      },
      "source": [
        "In this example, `p` contains probabilities from which binary random numbers have been drawn based on the Bernoulli distribution."
      ]
    },
    {
      "cell_type": "code",
      "execution_count": 24,
      "metadata": {
        "id": "8fDxyAwXRNhP",
        "colab": {
          "base_uri": "https://localhost:8080/",
          "height": 200
        },
        "outputId": "7d7719cb-602e-4d38-afdf-7b1c6fcdc4d4"
      },
      "outputs": [
        {
          "output_type": "error",
          "ename": "RuntimeError",
          "evalue": "ignored",
          "traceback": [
            "\u001b[0;31m---------------------------------------------------------------------------\u001b[0m",
            "\u001b[0;31mRuntimeError\u001b[0m                              Traceback (most recent call last)",
            "\u001b[0;32m<ipython-input-24-772c15f334df>\u001b[0m in \u001b[0;36m<module>\u001b[0;34m()\u001b[0m\n\u001b[1;32m      1\u001b[0m \u001b[0;31m# Example 3 - breaking (to illustrate when it breaks)\u001b[0m\u001b[0;34m\u001b[0m\u001b[0;34m\u001b[0m\u001b[0;34m\u001b[0m\u001b[0m\n\u001b[1;32m      2\u001b[0m \u001b[0mp\u001b[0m \u001b[0;34m=\u001b[0m \u001b[0mtorch\u001b[0m\u001b[0;34m.\u001b[0m\u001b[0mtensor\u001b[0m\u001b[0;34m(\u001b[0m\u001b[0;34m[\u001b[0m\u001b[0;36m0.2\u001b[0m\u001b[0;34m,\u001b[0m \u001b[0;36m0.3\u001b[0m\u001b[0;34m,\u001b[0m \u001b[0;34m-\u001b[0m\u001b[0;36m0.1\u001b[0m\u001b[0;34m,\u001b[0m \u001b[0;36m2\u001b[0m\u001b[0;34m]\u001b[0m\u001b[0;34m)\u001b[0m\u001b[0;34m\u001b[0m\u001b[0;34m\u001b[0m\u001b[0m\n\u001b[0;32m----> 3\u001b[0;31m \u001b[0mdist3\u001b[0m \u001b[0;34m=\u001b[0m \u001b[0mtorch\u001b[0m\u001b[0;34m.\u001b[0m\u001b[0mbernoulli\u001b[0m\u001b[0;34m(\u001b[0m\u001b[0mp\u001b[0m\u001b[0;34m)\u001b[0m\u001b[0;34m\u001b[0m\u001b[0;34m\u001b[0m\u001b[0m\n\u001b[0m",
            "\u001b[0;31mRuntimeError\u001b[0m: Expected p_in >= 0 && p_in <= 1 to be true, but got false.  (Could this error message be improved?  If so, please report an enhancement request to PyTorch.)"
          ]
        }
      ],
      "source": [
        "# Example 3 - breaking (to illustrate when it breaks)\n",
        "p = torch.tensor([0.2, 0.3, -0.1, 2])\n",
        "dist3 = torch.bernoulli(p)"
      ]
    },
    {
      "cell_type": "markdown",
      "metadata": {
        "id": "IsrRZvbaRNhQ"
      },
      "source": [
        "One of the properties of **probability mass function** suggests that `0<=p(x)=<1`, which means that elements of tensor `p` should not be bigger than *one* and smaller than *zero*. "
      ]
    },
    {
      "cell_type": "markdown",
      "metadata": {
        "id": "_64I_vptRNhR"
      },
      "source": [
        "#### Conclusion\n",
        "The above examples have shown how to draw random boolean-valued numbers (i.e. 0 and 1) by using the Bernoulli distribution. "
      ]
    },
    {
      "cell_type": "code",
      "execution_count": 25,
      "metadata": {
        "id": "od-Yhz-pRNhR",
        "colab": {
          "base_uri": "https://localhost:8080/",
          "height": 88
        },
        "outputId": "d61e06c4-cce6-4c15-ffbc-9ba39d0ff4f4"
      },
      "outputs": [
        {
          "output_type": "stream",
          "name": "stdout",
          "text": [
            "[jovian] Detected Colab notebook...\u001b[0m\n",
            "[jovian] Uploading colab notebook to Jovian...\u001b[0m\n",
            "Committed successfully! https://jovian.ai/davoodsoleymanzadeh/01-tensor-operations\n"
          ]
        },
        {
          "output_type": "execute_result",
          "data": {
            "application/vnd.google.colaboratory.intrinsic+json": {
              "type": "string"
            },
            "text/plain": [
              "'https://jovian.ai/davoodsoleymanzadeh/01-tensor-operations'"
            ]
          },
          "metadata": {},
          "execution_count": 25
        }
      ],
      "source": [
        "jovian.commit(project='01-tensor-operations')"
      ]
    },
    {
      "cell_type": "markdown",
      "metadata": {
        "id": "6bQNt7O0RNhR"
      },
      "source": [
        "## Function 5 - torch.cross()\n",
        "\n",
        "This function calculates the cross product of two tensors."
      ]
    },
    {
      "cell_type": "code",
      "execution_count": 26,
      "metadata": {
        "id": "T6TlTzrHRNhS",
        "colab": {
          "base_uri": "https://localhost:8080/"
        },
        "outputId": "35100708-27d0-4dca-b1bc-2cb9cb1ef802"
      },
      "outputs": [
        {
          "output_type": "execute_result",
          "data": {
            "text/plain": [
              "tensor([[-6, 12, -6],\n",
              "        [-6, 12, -6]])"
            ]
          },
          "metadata": {},
          "execution_count": 26
        }
      ],
      "source": [
        "# Example 1 - working\n",
        "tensor1 = torch.tensor([[1, 2, 3],[4, 5, 6]])\n",
        "tensor2 = torch.tensor([[7, 8, 9], [10, 11, 12]])\n",
        "tesnor3 = torch.cross(tensor1, tensor2)\n",
        "tesnor3"
      ]
    },
    {
      "cell_type": "markdown",
      "metadata": {
        "id": "0napN5AqRNhS"
      },
      "source": [
        "The above example shows how `torch.cross` works."
      ]
    },
    {
      "cell_type": "code",
      "execution_count": 27,
      "metadata": {
        "id": "ZYGy_xxcRNhS",
        "colab": {
          "base_uri": "https://localhost:8080/"
        },
        "outputId": "1016c2a0-0693-4365-d7d9-0242ceb57243"
      },
      "outputs": [
        {
          "output_type": "execute_result",
          "data": {
            "text/plain": [
              "tensor([[  6, -12,   6],\n",
              "        [  6, -12,   6]])"
            ]
          },
          "metadata": {},
          "execution_count": 27
        }
      ],
      "source": [
        "# Example 2 - working\n",
        "tensor1 = torch.tensor([[1, 2, 3],[4, 5, 6]])\n",
        "tensor2 = torch.tensor([[7, 8, 9], [10, 11, 12]])\n",
        "tesnor3 = torch.cross(tensor2, tensor1)\n",
        "tesnor3"
      ]
    },
    {
      "cell_type": "markdown",
      "metadata": {
        "id": "4LuaX4EERNhS"
      },
      "source": [
        "Two previous examples show that **cross product** is anticommutative (i.e. `tensor1 * tensor2 = - tensor2 * tensor1`)."
      ]
    },
    {
      "cell_type": "code",
      "execution_count": 28,
      "metadata": {
        "id": "t-BIpB_hRNhT",
        "colab": {
          "base_uri": "https://localhost:8080/",
          "height": 217
        },
        "outputId": "0888459a-56aa-45d4-ddc7-803ec0a07711"
      },
      "outputs": [
        {
          "output_type": "error",
          "ename": "RuntimeError",
          "evalue": "ignored",
          "traceback": [
            "\u001b[0;31m---------------------------------------------------------------------------\u001b[0m",
            "\u001b[0;31mRuntimeError\u001b[0m                              Traceback (most recent call last)",
            "\u001b[0;32m<ipython-input-28-16e999784324>\u001b[0m in \u001b[0;36m<module>\u001b[0;34m()\u001b[0m\n\u001b[1;32m      2\u001b[0m \u001b[0mtensor1\u001b[0m \u001b[0;34m=\u001b[0m \u001b[0mtorch\u001b[0m\u001b[0;34m.\u001b[0m\u001b[0mtensor\u001b[0m\u001b[0;34m(\u001b[0m\u001b[0;34m[\u001b[0m\u001b[0;36m1\u001b[0m\u001b[0;34m,\u001b[0m \u001b[0;36m2\u001b[0m\u001b[0;34m,\u001b[0m \u001b[0;36m3\u001b[0m\u001b[0;34m]\u001b[0m\u001b[0;34m)\u001b[0m\u001b[0;34m\u001b[0m\u001b[0;34m\u001b[0m\u001b[0m\n\u001b[1;32m      3\u001b[0m \u001b[0mtensor2\u001b[0m \u001b[0;34m=\u001b[0m \u001b[0mtorch\u001b[0m\u001b[0;34m.\u001b[0m\u001b[0mtensor\u001b[0m\u001b[0;34m(\u001b[0m\u001b[0;34m[\u001b[0m\u001b[0;34m[\u001b[0m\u001b[0;36m1\u001b[0m\u001b[0;34m]\u001b[0m\u001b[0;34m,\u001b[0m \u001b[0;34m[\u001b[0m\u001b[0;36m2\u001b[0m\u001b[0;34m]\u001b[0m\u001b[0;34m,\u001b[0m \u001b[0;34m[\u001b[0m\u001b[0;36m3\u001b[0m\u001b[0;34m]\u001b[0m\u001b[0;34m]\u001b[0m\u001b[0;34m)\u001b[0m\u001b[0;34m\u001b[0m\u001b[0;34m\u001b[0m\u001b[0m\n\u001b[0;32m----> 4\u001b[0;31m \u001b[0mtensor3\u001b[0m \u001b[0;34m=\u001b[0m \u001b[0mtorch\u001b[0m\u001b[0;34m.\u001b[0m\u001b[0mcross\u001b[0m\u001b[0;34m(\u001b[0m\u001b[0mtensor1\u001b[0m\u001b[0;34m,\u001b[0m \u001b[0mtensor2\u001b[0m\u001b[0;34m)\u001b[0m\u001b[0;34m\u001b[0m\u001b[0;34m\u001b[0m\u001b[0m\n\u001b[0m\u001b[1;32m      5\u001b[0m \u001b[0mtensor3\u001b[0m\u001b[0;34m\u001b[0m\u001b[0;34m\u001b[0m\u001b[0m\n",
            "\u001b[0;31mRuntimeError\u001b[0m: inconsistent tensors dimensions input: 1 other: 2"
          ]
        }
      ],
      "source": [
        "# Example 3 - breaking (to illustrate when it breaks)\n",
        "tensor1 = torch.tensor([1, 2, 3])\n",
        "tensor2 = torch.tensor([[1], [2], [3]])\n",
        "tensor3 = torch.cross(tensor1, tensor2)\n",
        "tensor3"
      ]
    },
    {
      "cell_type": "markdown",
      "metadata": {
        "id": "WwxrJkWPRNhT"
      },
      "source": [
        "The above example illustrates that in order to perform **cross product** on two tensors, their dimension must be consistent."
      ]
    },
    {
      "cell_type": "markdown",
      "metadata": {
        "id": "zYSSpuL7RNhT"
      },
      "source": [
        "#### Conclusion\n",
        "The `torch.cross()` can be used to calculate the cross product of two tensors. \n",
        "\n"
      ]
    },
    {
      "cell_type": "code",
      "execution_count": 31,
      "metadata": {
        "id": "Z9u3q4KGRNhT",
        "colab": {
          "base_uri": "https://localhost:8080/",
          "height": 88
        },
        "outputId": "3ce216d0-bc80-4de0-8480-2bfdb05a34a9"
      },
      "outputs": [
        {
          "output_type": "stream",
          "name": "stdout",
          "text": [
            "[jovian] Detected Colab notebook...\u001b[0m\n",
            "[jovian] Uploading colab notebook to Jovian...\u001b[0m\n",
            "Committed successfully! https://jovian.ai/davoodsoleymanzadeh/01-tensor-operations\n"
          ]
        },
        {
          "output_type": "execute_result",
          "data": {
            "application/vnd.google.colaboratory.intrinsic+json": {
              "type": "string"
            },
            "text/plain": [
              "'https://jovian.ai/davoodsoleymanzadeh/01-tensor-operations'"
            ]
          },
          "metadata": {},
          "execution_count": 31
        }
      ],
      "source": [
        "jovian.commit(project='01-tensor-operations')"
      ]
    },
    {
      "cell_type": "markdown",
      "metadata": {
        "id": "q_c-ZjwcRNhU"
      },
      "source": [
        "# Conclusion\n",
        "\n",
        "What has been covered in this notebook is as follows:\n",
        "- **First**, the function `torch.is_floating_point()` was introduced. This function can be used to check whether the data type of elements of any given tensor is floating point data type.\n",
        "- **Second**, we discussed the function `torch.from_numpy()` which can be used to convert arrays from Numpy to PyTorch tensors.\n",
        "- **Third**, we learned how to calculate the **inverse cosine** of the elements of any given tensor.\n",
        "- **Forth**, the Bernoulli distribution was introduced, and various examples of how to implement it in PyTorch were given.\n",
        "- **Fifth**, we found how to use the `torch.cross` function for calculating the cross product of two consistent tensors. \n"
      ]
    },
    {
      "cell_type": "markdown",
      "metadata": {
        "id": "yRFsWJhNRNhU"
      },
      "source": [
        "## Reference Links\n",
        "\n",
        "* Official documentation for tensor operations: https://pytorch.org/docs/stable/torch.html\n"
      ]
    },
    {
      "cell_type": "code",
      "execution_count": 33,
      "metadata": {
        "id": "g2yGvnafRNhV",
        "colab": {
          "base_uri": "https://localhost:8080/",
          "height": 88
        },
        "outputId": "54d372a0-74ea-4ae3-913a-447031e93a2b"
      },
      "outputs": [
        {
          "output_type": "stream",
          "name": "stdout",
          "text": [
            "[jovian] Detected Colab notebook...\u001b[0m\n",
            "[jovian] Uploading colab notebook to Jovian...\u001b[0m\n",
            "Committed successfully! https://jovian.ai/davoodsoleymanzadeh/01-tensor-operations\n"
          ]
        },
        {
          "output_type": "execute_result",
          "data": {
            "application/vnd.google.colaboratory.intrinsic+json": {
              "type": "string"
            },
            "text/plain": [
              "'https://jovian.ai/davoodsoleymanzadeh/01-tensor-operations'"
            ]
          },
          "metadata": {},
          "execution_count": 33
        }
      ],
      "source": [
        "jovian.commit(project='01-tensor-operations')"
      ]
    },
    {
      "cell_type": "code",
      "execution_count": null,
      "metadata": {
        "id": "CDkkTMQfRNhV"
      },
      "outputs": [],
      "source": [
        ""
      ]
    }
  ],
  "metadata": {
    "colab": {
      "name": "01-tensor-operations.ipynb",
      "provenance": [],
      "include_colab_link": true
    },
    "kernelspec": {
      "display_name": "Python 3",
      "language": "python",
      "name": "python3"
    },
    "language_info": {
      "codemirror_mode": {
        "name": "ipython",
        "version": 3
      },
      "file_extension": ".py",
      "mimetype": "text/x-python",
      "name": "python",
      "nbconvert_exporter": "python",
      "pygments_lexer": "ipython3",
      "version": "3.8.5"
    }
  },
  "nbformat": 4,
  "nbformat_minor": 0
}
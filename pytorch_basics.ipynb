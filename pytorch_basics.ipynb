{
  "nbformat": 4,
  "nbformat_minor": 0,
  "metadata": {
    "colab": {
      "provenance": [],
      "authorship_tag": "ABX9TyPzCwcmtR717CPfluBmIUsZ",
      "include_colab_link": true
    },
    "kernelspec": {
      "name": "python3",
      "display_name": "Python 3"
    },
    "language_info": {
      "name": "python"
    }
  },
  "cells": [
    {
      "cell_type": "markdown",
      "metadata": {
        "id": "view-in-github",
        "colab_type": "text"
      },
      "source": [
        "<a href=\"https://colab.research.google.com/github/DavoodSZ1993/pytorch_tutorial/blob/master/pytorch_basics.ipynb\" target=\"_parent\"><img src=\"https://colab.research.google.com/assets/colab-badge.svg\" alt=\"Open In Colab\"/></a>"
      ]
    },
    {
      "cell_type": "markdown",
      "source": [
        "## Some Useful Notes on PyTorch Module"
      ],
      "metadata": {
        "id": "EhdyvpoiHoSU"
      }
    },
    {
      "cell_type": "markdown",
      "source": [
        "### `torchvision.transforms` Module: \n",
        "\n",
        "Transforms are common image transformations. \n",
        "\n"
      ],
      "metadata": {
        "id": "E8rOzmw3H3IC"
      }
    },
    {
      "cell_type": "code",
      "execution_count": null,
      "metadata": {
        "id": "fzeOziRPHhvn"
      },
      "outputs": [],
      "source": []
    }
  ]
}
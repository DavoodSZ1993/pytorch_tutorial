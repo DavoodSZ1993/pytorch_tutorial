{
  "nbformat": 4,
  "nbformat_minor": 0,
  "metadata": {
    "colab": {
      "name": "07_NNPyTorch.ipynb",
      "provenance": [],
      "authorship_tag": "ABX9TyPcBvrtYZex4yJ0UE37En0B",
      "include_colab_link": true
    },
    "kernelspec": {
      "name": "python3",
      "display_name": "Python 3"
    },
    "language_info": {
      "name": "python"
    }
  },
  "cells": [
    {
      "cell_type": "markdown",
      "metadata": {
        "id": "view-in-github",
        "colab_type": "text"
      },
      "source": [
        "<a href=\"https://colab.research.google.com/github/DavoodSZ1993/pytorch_tutorial/blob/master/07_NNPyTorch.ipynb\" target=\"_parent\"><img src=\"https://colab.research.google.com/assets/colab-badge.svg\" alt=\"Open In Colab\"/></a>"
      ]
    },
    {
      "cell_type": "markdown",
      "source": [
        "## Three ways to create neural network architectures in PyTroch"
      ],
      "metadata": {
        "id": "u97JjU4N-dnQ"
      }
    },
    {
      "cell_type": "code",
      "execution_count": 11,
      "metadata": {
        "id": "y_vZUJ1z8DCT"
      },
      "outputs": [],
      "source": [
        "import torch\n",
        "import torch.nn.functional as F\n",
        "from torch import nn\n",
        "\n",
        "from collections import OrderedDict"
      ]
    },
    {
      "cell_type": "markdown",
      "source": [
        "### 01. Manually building weights and biases"
      ],
      "metadata": {
        "id": "yU-kM-bV-m94"
      }
    },
    {
      "cell_type": "code",
      "source": [
        "# Generating some random features\n",
        "features = torch.randn(1, 16)\n",
        "\n",
        "# define the wieghts\n",
        "W1 = torch.randn((16, 12), requires_grad=True)\n",
        "W2 = torch.randn((12, 10), requires_grad=True)\n",
        "W3 = torch.randn((10, 1), requires_grad=True)\n",
        "\n",
        "# define the bias terms\n",
        "B1 = torch.randn((12), requires_grad=True)\n",
        "B2 = torch.randn((10), requires_grad=True)\n",
        "B3 = torch.randn((1), requires_grad=True)\n",
        "\n",
        "# Calculate hidden and output layers\n",
        "h1 = F.relu((features @ W1) + B1)\n",
        "h2 = F.relu((h1 @ W2) + B2)\n",
        "output = torch.sigmoid((h2 @ W3) + B3)"
      ],
      "metadata": {
        "id": "P6Mx28mk8QMW"
      },
      "execution_count": 5,
      "outputs": []
    },
    {
      "cell_type": "markdown",
      "source": [
        "### 02. Extending the `torch.nn.Module` class"
      ],
      "metadata": {
        "id": "ryA52IA7-7cu"
      }
    },
    {
      "cell_type": "code",
      "source": [
        "# Define the newtwork class\n",
        "class MyNetwork(nn.Module):\n",
        "  def __init__(self):\n",
        "    # Call constructor from superclass\n",
        "    super().__init__()\n",
        "\n",
        "    # define the network layers\n",
        "    self.fc1 = nn.Linear(16, 12)\n",
        "    self.fc2 = nn.Linear(12, 10)\n",
        "    self.fc3 = nn.Linear(10, 1)\n",
        "\n",
        "  def forward(self, x):\n",
        "    # define forward pass\n",
        "    x = F.relue(self.fc1(x))\n",
        "    x = F.relue(self.fc2(x))\n",
        "    x = torch.sigmoid(self.fc3(x))\n",
        "    return x\n",
        "\n",
        "# Instantiate the model\n",
        "model = MyNetwork()\n",
        "\n",
        "# Print model architeture\n",
        "print(model)\n"
      ],
      "metadata": {
        "colab": {
          "base_uri": "https://localhost:8080/"
        },
        "id": "bIgbUXlB_Gfi",
        "outputId": "3ca9f489-e584-4894-f1e2-63fd9ae93dae"
      },
      "execution_count": 7,
      "outputs": [
        {
          "output_type": "stream",
          "name": "stdout",
          "text": [
            "MyNetwork(\n",
            "  (fc1): Linear(in_features=16, out_features=12, bias=True)\n",
            "  (fc2): Linear(in_features=12, out_features=10, bias=True)\n",
            "  (fc3): Linear(in_features=10, out_features=1, bias=True)\n",
            ")\n"
          ]
        }
      ]
    },
    {
      "cell_type": "markdown",
      "source": [
        "### 03. Using `torch.nn.Sequential`:"
      ],
      "metadata": {
        "id": "OvsYCtuFCdxG"
      }
    },
    {
      "cell_type": "code",
      "source": [
        "# define model arcitecture \n",
        "model = nn.Sequential(\n",
        "    nn.Linear(16, 12),\n",
        "    nn.ReLU(),\n",
        "    nn.Linear(12, 10),\n",
        "    nn.ReLU(),\n",
        "    nn.Linear(10, 1),\n",
        "    nn.Sigmoid()\n",
        ")\n",
        "\n",
        "# print model architecture\n",
        "print(model), print(model[0], model[0].weight)"
      ],
      "metadata": {
        "colab": {
          "base_uri": "https://localhost:8080/"
        },
        "id": "J0UY2TnkCuvQ",
        "outputId": "9d2a131f-3fe0-4b24-a7ba-387b0780dff7"
      },
      "execution_count": 10,
      "outputs": [
        {
          "output_type": "stream",
          "name": "stdout",
          "text": [
            "Sequential(\n",
            "  (0): Linear(in_features=16, out_features=12, bias=True)\n",
            "  (1): ReLU()\n",
            "  (2): Linear(in_features=12, out_features=10, bias=True)\n",
            "  (3): ReLU()\n",
            "  (4): Linear(in_features=10, out_features=1, bias=True)\n",
            "  (5): Sigmoid()\n",
            ")\n",
            "Linear(in_features=16, out_features=12, bias=True) Parameter containing:\n",
            "tensor([[-0.1286, -0.0225, -0.0353, -0.0456,  0.0506,  0.0250,  0.1490, -0.0500,\n",
            "         -0.0993,  0.1298, -0.1039,  0.1110, -0.1958,  0.1574,  0.0362, -0.0161],\n",
            "        [-0.2249, -0.1316, -0.2287, -0.0884, -0.1987, -0.1844, -0.1778,  0.1993,\n",
            "         -0.0640, -0.0140, -0.1145, -0.0909, -0.0217,  0.0292,  0.2004,  0.0987],\n",
            "        [ 0.0544,  0.0595,  0.1087, -0.0601, -0.0190, -0.1213,  0.1248,  0.0685,\n",
            "         -0.1846, -0.1093, -0.1053,  0.1422,  0.1755,  0.0223,  0.1673,  0.0671],\n",
            "        [-0.1378, -0.0806, -0.0396,  0.0613,  0.0878, -0.1505,  0.2044,  0.0473,\n",
            "         -0.0449, -0.1045, -0.0556, -0.0710,  0.0795,  0.0547,  0.2484, -0.1437],\n",
            "        [-0.0869,  0.1659, -0.0876,  0.2032,  0.0358,  0.1292, -0.1995,  0.1448,\n",
            "          0.1923,  0.2332,  0.0500, -0.2083, -0.1991,  0.2085, -0.2065,  0.2001],\n",
            "        [-0.0722, -0.1920, -0.0836,  0.0551,  0.1863,  0.1828,  0.1460,  0.1487,\n",
            "         -0.2406,  0.2303, -0.2212,  0.1662, -0.1572,  0.1674,  0.1658, -0.1214],\n",
            "        [-0.0625,  0.1104, -0.1174, -0.1027,  0.2217,  0.2107, -0.2350,  0.1202,\n",
            "         -0.0370,  0.0134, -0.1599,  0.1193,  0.1706,  0.0569, -0.1997,  0.0999],\n",
            "        [-0.2468, -0.0459, -0.1861,  0.0532, -0.1273,  0.2233, -0.1401, -0.1433,\n",
            "          0.0194, -0.0411,  0.1314,  0.1267,  0.1385,  0.0863,  0.0888,  0.0399],\n",
            "        [-0.1376, -0.2002, -0.0927,  0.1207,  0.1219, -0.0387,  0.2045,  0.0842,\n",
            "         -0.0276, -0.1354,  0.1570,  0.1285, -0.1023, -0.1234,  0.0729, -0.0275],\n",
            "        [ 0.1023, -0.1458, -0.0570, -0.1188,  0.1813, -0.1560,  0.1827, -0.1162,\n",
            "         -0.0138,  0.1716,  0.1924, -0.1775, -0.2169, -0.2002,  0.1328,  0.1086],\n",
            "        [-0.2438, -0.1232,  0.2202,  0.1571,  0.1385,  0.0856,  0.1606,  0.1094,\n",
            "          0.1600, -0.0021, -0.0796,  0.2432,  0.0983,  0.2019,  0.0779,  0.0199],\n",
            "        [-0.1702,  0.2475,  0.1099, -0.2110, -0.2380, -0.0995, -0.0884, -0.1490,\n",
            "          0.2150, -0.1592, -0.1141,  0.0309, -0.0788, -0.0895,  0.1818, -0.1769]],\n",
            "       requires_grad=True)\n"
          ]
        },
        {
          "output_type": "execute_result",
          "data": {
            "text/plain": [
              "(None, None)"
            ]
          },
          "metadata": {},
          "execution_count": 10
        }
      ]
    },
    {
      "cell_type": "markdown",
      "source": [
        "### Extra: Naming layers by `OrderedDict` from the python 'collections' module"
      ],
      "metadata": {
        "id": "ChT9BcW6ELuX"
      }
    },
    {
      "cell_type": "code",
      "source": [
        "# Define the model architecture\n",
        "model = nn.Sequential(OrderedDict([\n",
        "    ('fc1', nn.Linear(16, 12)),\n",
        "    ('relu1', nn.ReLU()),\n",
        "    ('fc2', nn.Linear(12, 10)),\n",
        "    ('relu2', nn.ReLU()),\n",
        "    ('fc3', nn.Linear(10, 1)),\n",
        "    ('sigmoid', nn.Sigmoid())\n",
        "]))\n",
        "\n",
        "# Print model architecture\n",
        "print(model), print(model.fc2, model.fc2.weight)"
      ],
      "metadata": {
        "colab": {
          "base_uri": "https://localhost:8080/"
        },
        "id": "DefwbgFAEb14",
        "outputId": "24d65d32-0251-46d2-e573-f52e3cc44e3c"
      },
      "execution_count": 14,
      "outputs": [
        {
          "output_type": "stream",
          "name": "stdout",
          "text": [
            "Sequential(\n",
            "  (fc1): Linear(in_features=16, out_features=12, bias=True)\n",
            "  (relu1): ReLU()\n",
            "  (fc2): Linear(in_features=12, out_features=10, bias=True)\n",
            "  (relu2): ReLU()\n",
            "  (fc3): Linear(in_features=10, out_features=1, bias=True)\n",
            "  (sigmoid): Sigmoid()\n",
            ")\n",
            "Linear(in_features=12, out_features=10, bias=True) Parameter containing:\n",
            "tensor([[ 0.1942, -0.1092, -0.0142, -0.1855,  0.2005, -0.1983,  0.1985,  0.0717,\n",
            "          0.2514, -0.2004,  0.0479,  0.0182],\n",
            "        [-0.2088,  0.1099, -0.1886,  0.2633, -0.0085, -0.0965, -0.2735,  0.2030,\n",
            "         -0.2119,  0.2559, -0.1213, -0.1537],\n",
            "        [-0.1928,  0.1138,  0.2189,  0.1563, -0.1950,  0.1644, -0.2809, -0.2288,\n",
            "         -0.2026, -0.2365,  0.1050,  0.0935],\n",
            "        [ 0.0386, -0.0360, -0.1934,  0.0738,  0.2656,  0.0405, -0.0739,  0.2230,\n",
            "          0.1695,  0.1878, -0.1755,  0.1406],\n",
            "        [-0.0538,  0.1896, -0.1274, -0.1159, -0.0237,  0.1300, -0.0496, -0.0879,\n",
            "          0.1447,  0.1759,  0.0116,  0.1863],\n",
            "        [-0.0995,  0.1131, -0.2729,  0.0189,  0.1673, -0.0901, -0.0897, -0.2297,\n",
            "          0.2542, -0.2540, -0.1271, -0.2104],\n",
            "        [-0.1274,  0.1945, -0.0434, -0.0946,  0.2829, -0.1591,  0.0518,  0.1067,\n",
            "         -0.0261,  0.1231, -0.2751, -0.2550],\n",
            "        [-0.2787,  0.1875,  0.0256, -0.1681, -0.0206,  0.0964, -0.1060,  0.0647,\n",
            "         -0.0348,  0.0636,  0.1508,  0.2196],\n",
            "        [-0.0284,  0.2284,  0.0116, -0.1633, -0.2736, -0.2094,  0.2579,  0.0139,\n",
            "          0.0444,  0.0603, -0.1919, -0.0153],\n",
            "        [-0.1813, -0.2626, -0.2092, -0.0154, -0.1683,  0.2418,  0.1479,  0.2825,\n",
            "         -0.1898, -0.0408, -0.1529,  0.0030]], requires_grad=True)\n"
          ]
        },
        {
          "output_type": "execute_result",
          "data": {
            "text/plain": [
              "(None, None)"
            ]
          },
          "metadata": {},
          "execution_count": 14
        }
      ]
    },
    {
      "cell_type": "markdown",
      "source": [
        "### Mix & Match between different approaches"
      ],
      "metadata": {
        "id": "B7IIqNhYGEQn"
      }
    },
    {
      "cell_type": "code",
      "source": [
        "class MyNetwork(nn.Module):\n",
        "  def __init__(self):\n",
        "    super().__init__()\n",
        "\n",
        "    self.layers = nn.Sequential(\n",
        "        nn.Linear(16, 12),\n",
        "        nn.ReLU(),\n",
        "        nn.Linear(12, 10),\n",
        "        nn.ReLU(),\n",
        "        nn.Linear(10, 1)\n",
        "    )\n",
        "\n",
        "  def forward(self, x):\n",
        "    # forward pass\n",
        "    x = torch.sigmoid(self.layers(x))\n",
        "    return x\n",
        "\n",
        "\n",
        "# Instantiate the Model\n",
        "model = MyNetwork()\n",
        "\n",
        "# Print model architecture\n",
        "print(model)"
      ],
      "metadata": {
        "colab": {
          "base_uri": "https://localhost:8080/"
        },
        "id": "4x5oqeguGJZW",
        "outputId": "e32dee2d-be1e-4582-bba9-2c5ac1ee0d66"
      },
      "execution_count": 16,
      "outputs": [
        {
          "output_type": "stream",
          "name": "stdout",
          "text": [
            "MyNetwork(\n",
            "  (layers): Sequential(\n",
            "    (0): Linear(in_features=16, out_features=12, bias=True)\n",
            "    (1): ReLU()\n",
            "    (2): Linear(in_features=12, out_features=10, bias=True)\n",
            "    (3): ReLU()\n",
            "    (4): Linear(in_features=10, out_features=1, bias=True)\n",
            "  )\n",
            ")\n"
          ]
        }
      ]
    }
  ]
}
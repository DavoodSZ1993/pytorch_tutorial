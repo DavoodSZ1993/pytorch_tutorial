{
  "nbformat": 4,
  "nbformat_minor": 0,
  "metadata": {
    "colab": {
      "name": "07_NNPyTorch.ipynb",
      "provenance": [],
      "authorship_tag": "ABX9TyNdl+v0Tjr3a8R8qeP34E+a",
      "include_colab_link": true
    },
    "kernelspec": {
      "name": "python3",
      "display_name": "Python 3"
    },
    "language_info": {
      "name": "python"
    }
  },
  "cells": [
    {
      "cell_type": "markdown",
      "metadata": {
        "id": "view-in-github",
        "colab_type": "text"
      },
      "source": [
        "<a href=\"https://colab.research.google.com/github/DavoodSZ1993/pytorch_tutorial/blob/master/07_NNPyTorch.ipynb\" target=\"_parent\"><img src=\"https://colab.research.google.com/assets/colab-badge.svg\" alt=\"Open In Colab\"/></a>"
      ]
    },
    {
      "cell_type": "markdown",
      "source": [
        "## Three ways to create neural network architectures in PyTroch"
      ],
      "metadata": {
        "id": "u97JjU4N-dnQ"
      }
    },
    {
      "cell_type": "code",
      "execution_count": 4,
      "metadata": {
        "id": "y_vZUJ1z8DCT"
      },
      "outputs": [],
      "source": [
        "import torch\n",
        "import torch.nn.functional as F\n",
        "from torch import nn"
      ]
    },
    {
      "cell_type": "markdown",
      "source": [
        "### 01. Manually building weights and biases"
      ],
      "metadata": {
        "id": "yU-kM-bV-m94"
      }
    },
    {
      "cell_type": "code",
      "source": [
        "# Generating some random features\n",
        "features = torch.randn(1, 16)\n",
        "\n",
        "# define the wieghts\n",
        "W1 = torch.randn((16, 12), requires_grad=True)\n",
        "W2 = torch.randn((12, 10), requires_grad=True)\n",
        "W3 = torch.randn((10, 1), requires_grad=True)\n",
        "\n",
        "# define the bias terms\n",
        "B1 = torch.randn((12), requires_grad=True)\n",
        "B2 = torch.randn((10), requires_grad=True)\n",
        "B3 = torch.randn((1), requires_grad=True)\n",
        "\n",
        "# Calculate hidden and output layers\n",
        "h1 = F.relu((features @ W1) + B1)\n",
        "h2 = F.relu((h1 @ W2) + B2)\n",
        "output = torch.sigmoid((h2 @ W3) + B3)"
      ],
      "metadata": {
        "id": "P6Mx28mk8QMW"
      },
      "execution_count": 5,
      "outputs": []
    },
    {
      "cell_type": "markdown",
      "source": [
        "### 02. Extending the `torch.nn.Module` class"
      ],
      "metadata": {
        "id": "ryA52IA7-7cu"
      }
    },
    {
      "cell_type": "code",
      "source": [
        "# Define the newtwork class\n",
        "class MyNetwork(nn.Module):\n",
        "  def __init__(self):\n",
        "    # Call constructor from superclass\n",
        "    super().__init__()\n",
        "\n",
        "    # define the network layers\n",
        "    self.fc1 = nn.Linear(16, 12)\n",
        "    self.fc2 = nn.Linear(12, 10)\n",
        "    self.fc3 = nn.Linear(10, 1)\n",
        "\n",
        "  def forward(self, x):\n",
        "    # define forward pass\n",
        "    x = F.relue(self.fc1(x))\n",
        "    x = F.relue(self.fc2(x))\n",
        "    x = torch.sigmoid(self.fc3(x))\n",
        "    return x\n",
        "\n",
        "# Instantiate the model\n",
        "model = MyNetwork()\n",
        "\n",
        "# Print model architeture\n",
        "print(model)\n"
      ],
      "metadata": {
        "colab": {
          "base_uri": "https://localhost:8080/"
        },
        "id": "bIgbUXlB_Gfi",
        "outputId": "3ca9f489-e584-4894-f1e2-63fd9ae93dae"
      },
      "execution_count": 7,
      "outputs": [
        {
          "output_type": "stream",
          "name": "stdout",
          "text": [
            "MyNetwork(\n",
            "  (fc1): Linear(in_features=16, out_features=12, bias=True)\n",
            "  (fc2): Linear(in_features=12, out_features=10, bias=True)\n",
            "  (fc3): Linear(in_features=10, out_features=1, bias=True)\n",
            ")\n"
          ]
        }
      ]
    },
    {
      "cell_type": "markdown",
      "source": [
        "### 03. Using `torch.nn.Sequential`:"
      ],
      "metadata": {
        "id": "OvsYCtuFCdxG"
      }
    }
  ]
}
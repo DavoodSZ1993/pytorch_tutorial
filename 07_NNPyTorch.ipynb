{
  "nbformat": 4,
  "nbformat_minor": 0,
  "metadata": {
    "colab": {
      "name": "07_NNPyTorch.ipynb",
      "provenance": [],
      "authorship_tag": "ABX9TyP8gCEr0iqYCACzE+6OojOI",
      "include_colab_link": true
    },
    "kernelspec": {
      "name": "python3",
      "display_name": "Python 3"
    },
    "language_info": {
      "name": "python"
    }
  },
  "cells": [
    {
      "cell_type": "markdown",
      "metadata": {
        "id": "view-in-github",
        "colab_type": "text"
      },
      "source": [
        "<a href=\"https://colab.research.google.com/github/DavoodSZ1993/pytorch_tutorial/blob/master/07_NNPyTorch.ipynb\" target=\"_parent\"><img src=\"https://colab.research.google.com/assets/colab-badge.svg\" alt=\"Open In Colab\"/></a>"
      ]
    },
    {
      "cell_type": "markdown",
      "source": [
        "## Three ways to create neural network architectures in PyTroch"
      ],
      "metadata": {
        "id": "u97JjU4N-dnQ"
      }
    },
    {
      "cell_type": "code",
      "execution_count": 2,
      "metadata": {
        "id": "y_vZUJ1z8DCT"
      },
      "outputs": [],
      "source": [
        "import torch\n",
        "import torch.nn.functional as F"
      ]
    },
    {
      "cell_type": "markdown",
      "source": [
        "### 01. Manually building weights and biases"
      ],
      "metadata": {
        "id": "yU-kM-bV-m94"
      }
    },
    {
      "cell_type": "code",
      "source": [
        "# Generating some random features\n",
        "features = torch.randn(1, 16)\n",
        "\n",
        "# define the wieghts\n",
        "W1 = torch.randn((16, 12), requires_grad=True)\n",
        "W2 = torch.randn((12, 10), requires_grad=True)\n",
        "W3 = torch.randn((10, 1), requires_grad=True)\n",
        "\n",
        "# define the bias terms\n",
        "B1 = torch.randn((12), requires_grad=True)\n",
        "B2 = torch.randn((10), requires_grad=True)\n",
        "B3 = torch.randn((1), requires_grad=True)\n",
        "\n",
        "# Calculate hidden and output layers\n",
        "h1 = F.relu((features @ W1) + B1)\n",
        "h2 = F.relu((h1 @ W2) + B2)\n",
        "output = torch.sigmoid((h2 @ W3) + B3)"
      ],
      "metadata": {
        "id": "P6Mx28mk8QMW"
      },
      "execution_count": 3,
      "outputs": []
    },
    {
      "cell_type": "markdown",
      "source": [
        "### 02. Extending the `torch.nn.Module` class"
      ],
      "metadata": {
        "id": "ryA52IA7-7cu"
      }
    },
    {
      "cell_type": "code",
      "source": [
        ""
      ],
      "metadata": {
        "id": "bIgbUXlB_Gfi"
      },
      "execution_count": null,
      "outputs": []
    }
  ]
}